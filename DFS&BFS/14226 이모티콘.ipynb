{
 "cells": [
  {
   "cell_type": "markdown",
   "id": "c641e7d0",
   "metadata": {},
   "source": [
    "# [이모티콘](https://www.acmicpc.net/problem/14226)"
   ]
  },
  {
   "cell_type": "markdown",
   "id": "d9754c1a",
   "metadata": {},
   "source": [
    "![](image/14226.png)"
   ]
  },
  {
   "cell_type": "code",
   "execution_count": null,
   "id": "0bfe2dd1",
   "metadata": {},
   "outputs": [],
   "source": [
    "from collections import deque"
   ]
  },
  {
   "cell_type": "code",
   "execution_count": null,
   "id": "0da565e9",
   "metadata": {},
   "outputs": [],
   "source": [
    "def bfs():\n",
    "    while q:\n",
    "        ns, nm, nc = q.popleft()  # 현재 초, 현재 화면, 클립보드\n",
    "        if dp[nm] == 0:\n",
    "            dp[nm] = ns\n",
    "        if nm == s:\n",
    "            return\n",
    "        if nc != 0 and nm + nc < len(dp) and not dp[nm+nc]:  # 붙여넣기\n",
    "            q.append((ns + 1, nm + nc, nc))\n",
    "        if nm - 1 > 0 and not dp[nm-1]:\n",
    "            q.append((ns + 1, nm - 1, nc))  # 이모티콘 지우기\n",
    "        if nm != nc:\n",
    "            q.append((ns + 1, nm, nm))  # 클립보드 복사"
   ]
  },
  {
   "cell_type": "code",
   "execution_count": null,
   "id": "956520ec",
   "metadata": {},
   "outputs": [],
   "source": [
    "s = int(input())"
   ]
  },
  {
   "cell_type": "code",
   "execution_count": null,
   "id": "8d49faed",
   "metadata": {},
   "outputs": [],
   "source": [
    "# 초기화\n",
    "clip = 0\n",
    "monitor = 1 #화면에는 이모티콘 하나가 이미 있다."
   ]
  },
  {
   "cell_type": "code",
   "execution_count": null,
   "id": "23e34df4",
   "metadata": {},
   "outputs": [],
   "source": [
    "dp = [0]*(2000)  # dp definition : 이모티콘 i개를 만드는데 걸리는 시간\n",
    "# 2000으로 잡은 이유는 입력 숫자의 범위보다 더 큰 수에서부터 뺄셈하는 것도 가능하기 때문"
   ]
  },
  {
   "cell_type": "code",
   "execution_count": null,
   "id": "67009835",
   "metadata": {},
   "outputs": [],
   "source": [
    "q = deque()\n",
    "q.append((0, monitor, clip))\n",
    "bfs()\n",
    "\n",
    "print(dp[s])"
   ]
  }
 ],
 "metadata": {
  "kernelspec": {
   "display_name": "Python 3",
   "language": "python",
   "name": "python3"
  },
  "language_info": {
   "codemirror_mode": {
    "name": "ipython",
    "version": 3
   },
   "file_extension": ".py",
   "mimetype": "text/x-python",
   "name": "python",
   "nbconvert_exporter": "python",
   "pygments_lexer": "ipython3",
   "version": "3.7.7"
  }
 },
 "nbformat": 4,
 "nbformat_minor": 5
}
