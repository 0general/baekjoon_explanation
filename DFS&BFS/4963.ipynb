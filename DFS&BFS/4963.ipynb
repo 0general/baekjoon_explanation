{
 "cells": [
  {
   "cell_type": "markdown",
   "id": "c67909b9",
   "metadata": {},
   "source": [
    "[섬의 개수](https://www.acmicpc.net/problem/4963)"
   ]
  },
  {
   "cell_type": "markdown",
   "id": "96112d14",
   "metadata": {},
   "source": [
    "![섬의 개수](image/4963.png)"
   ]
  },
  {
   "cell_type": "code",
   "execution_count": null,
   "id": "48953c52",
   "metadata": {},
   "outputs": [],
   "source": [
    "import sys\n",
    "from collections import deque\n",
    "input = sys.stdin.readline\n",
    "\n",
    "def bfs():\n",
    "    while queue:\n",
    "        x, y = queue.popleft()\n",
    "        for i in range(len(dx)):\n",
    "            nowx, nowy = x+dx[i], y+dy[i]\n",
    "            if 0 <= nowx < h and 0 <= nowy < w:\n",
    "                if not visit[nowx][nowy]:\n",
    "                    visit[nowx][nowy] = True\n",
    "                    if arr[nowx][nowy] == 1:\n",
    "                        queue.append((nowx, nowy))\n",
    "\n",
    "dx = [0, 0, -1, 1, 1, -1, -1, 1]\n",
    "dy = [-1, 1, 0, 0, 1, -1, 1, -1]\n",
    "\n",
    "while True:\n",
    "    w, h = map(int, input().split())\n",
    "    if w == 0 and h == 0:\n",
    "        break\n",
    "    arr = []\n",
    "    for _ in range(h):\n",
    "        arr.append(list(map(int, input().split())))\n",
    "    visit = [[False] * w for _ in range(h)]\n",
    "    queue = deque()\n",
    "    cnt = 0\n",
    "    for i in range(h):\n",
    "        for j in range(w):\n",
    "            if not visit[i][j]:\n",
    "                visit[i][j] = True\n",
    "                if arr[i][j] == 1:\n",
    "                    queue.append((i, j))\n",
    "                    bfs()\n",
    "                    cnt += 1\n",
    "    print(cnt)"
   ]
  }
 ],
 "metadata": {
  "kernelspec": {
   "display_name": "Python 3",
   "language": "python",
   "name": "python3"
  },
  "language_info": {
   "codemirror_mode": {
    "name": "ipython",
    "version": 3
   },
   "file_extension": ".py",
   "mimetype": "text/x-python",
   "name": "python",
   "nbconvert_exporter": "python",
   "pygments_lexer": "ipython3",
   "version": "3.7.7"
  }
 },
 "nbformat": 4,
 "nbformat_minor": 5
}
