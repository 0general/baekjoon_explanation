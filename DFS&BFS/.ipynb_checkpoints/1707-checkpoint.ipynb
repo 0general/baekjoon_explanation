{
 "cells": [
  {
   "cell_type": "markdown",
   "metadata": {},
   "source": [
    "# 이분 그래프"
   ]
  },
  {
   "cell_type": "markdown",
   "metadata": {},
   "source": [
    "## 연결된 정점끼리는 같은 그룹에 속할 수 없다. => 인접한 노드의 색상들은 서로 겹칠 수 없다."
   ]
  },
  {
   "cell_type": "code",
   "execution_count": null,
   "metadata": {},
   "outputs": [],
   "source": [
    "import sys\n",
    "from collections import deque\n",
    "input = sys.stdin.readline\n",
    "\n",
    "# 연결되어 있는 간선을 모두 끊을 수 있는가?"
   ]
  },
  {
   "cell_type": "markdown",
   "metadata": {},
   "source": [
    "![](image/1707.png)"
   ]
  },
  {
   "cell_type": "markdown",
   "metadata": {},
   "source": [
    "## visit에 0과 1 색상을 집어넣어서 확인\n",
    "### (방문하지 않았다면 -1)\n",
    "\n",
    "## bfs()를 한번 돌면 연결되어있는 모든 정점 확인\n",
    "## &nbsp;&nbsp;&nbsp; → bfs()를 한번 돌고도 아직 방문하지 않은 정점이 있다면 첫 정점은 임의로 색 지정 가능"
   ]
  },
  {
   "cell_type": "code",
   "execution_count": null,
   "metadata": {},
   "outputs": [],
   "source": [
    "def bfs():\n",
    "    while queue:\n",
    "        i = queue.popleft()\n",
    "        for j in arr[i]:\n",
    "            if visit[j] == -1:\n",
    "                visit[j] = color[visit[i]]\n",
    "                queue.append(j)\n",
    "            else:\n",
    "                if visit[j] == visit[i]:\n",
    "                    return False\n",
    "    return True\n",
    "\n",
    "\n",
    "ok = True # 이분 그래프 가능 여부를 나타내는 변수 ok\n",
    "color = {1: 0, 0: 1} #인접 정점의 색상과 반대되는 값을 넣기 위한 color 테이블\n",
    "k = int(input())  # case 수\n",
    "arr = []  # 간선\n",
    "\n",
    "for _ in range(k):\n",
    "    ok = True\n",
    "    v, e = map(int, input().split())  # 노드 수, 간선 수\n",
    "    arr = [[] for _ in range(v+1)]\n",
    "    visit = [-1] * (v+1)  # 방문 확인용 아직 방문하지 않은 정점은 -1을 갖는다.\n",
    "    # 인접 리스트\n",
    "    for _ in range(e):\n",
    "        u1, u2 = map(int, input().split())\n",
    "        arr[u1].append(u2)\n",
    "        arr[u2].append(u1)\n",
    "\n",
    "    queue = deque()\n",
    "    for i in range(1, v+1):\n",
    "        if visit[i] == -1:  # 방문한 적이 없으면\n",
    "            visit[i] = 0 #0의 색상을 가진다\n",
    "            queue.append(i)\n",
    "            ok = bfs()\n",
    "        if not ok:\n",
    "            print(\"NO\")\n",
    "            break\n",
    "    if ok:\n",
    "        print(\"YES\")"
   ]
  }
 ],
 "metadata": {
  "kernelspec": {
   "display_name": "Python 3",
   "language": "python",
   "name": "python3"
  },
  "language_info": {
   "codemirror_mode": {
    "name": "ipython",
    "version": 3
   },
   "file_extension": ".py",
   "mimetype": "text/x-python",
   "name": "python",
   "nbconvert_exporter": "python",
   "pygments_lexer": "ipython3",
   "version": "3.7.7"
  }
 },
 "nbformat": 4,
 "nbformat_minor": 2
}
