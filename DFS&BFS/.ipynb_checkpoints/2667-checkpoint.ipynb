{
 "cells": [
  {
   "cell_type": "markdown",
   "id": "aa59e8bc",
   "metadata": {},
   "source": [
    "[단지 번호 붙이기](https://www.acmicpc.net/problem/2667)"
   ]
  },
  {
   "cell_type": "markdown",
   "id": "59f69e3d",
   "metadata": {},
   "source": [
    "![단지 번호 붙이기](image/2667.png)"
   ]
  },
  {
   "cell_type": "code",
   "execution_count": null,
   "id": "34a717cb",
   "metadata": {},
   "outputs": [],
   "source": [
    "from collections import deque\n",
    "\n",
    "n = int(input())\n",
    "\n",
    "house = [list(map(int, list(input()))) for _ in range(n)]\n",
    "\n",
    "# 위 , 오른쪽, 아래, 왼쪽\n",
    "dx = [-1, 0, 1, 0]\n",
    "dy = [0, 1, 0, -1]\n",
    "visit = [[False]*n for _ in range(n)]\n",
    "\n",
    "\n",
    "def bfs(x, y, cnt):\n",
    "    cnt += 1\n",
    "    count = 0\n",
    "    queue = deque()\n",
    "    queue.append([x, y])\n",
    "    while queue:\n",
    "        x, y = queue.popleft()\n",
    "        if visit[x][y]:\n",
    "            continue\n",
    "        visit[x][y] = True\n",
    "        count += 1\n",
    "        for i in range(4):\n",
    "            nx, ny = x+dx[i], y+dy[i]\n",
    "            if nx >= 0 and nx < n and ny >= 0 and ny < n:\n",
    "                if not visit[nx][ny] and house[nx][ny]:\n",
    "                    queue.append([nx, ny])\n",
    "\n",
    "    return cnt, count\n",
    "\n",
    "\n",
    "cnt = 0\n",
    "hcnt = []\n",
    "\n",
    "for i in range(n):\n",
    "    for j in range(n):\n",
    "        if not visit[i][j] and house[i][j]:\n",
    "            cnt, count = bfs(i, j, cnt)\n",
    "            hcnt.append(count)\n",
    "\n",
    "hcnt.sort()\n",
    "print(cnt)\n",
    "for i in range(len(hcnt)):\n",
    "    print(hcnt[i])"
   ]
  }
 ],
 "metadata": {
  "kernelspec": {
   "display_name": "Python 3",
   "language": "python",
   "name": "python3"
  },
  "language_info": {
   "codemirror_mode": {
    "name": "ipython",
    "version": 3
   },
   "file_extension": ".py",
   "mimetype": "text/x-python",
   "name": "python",
   "nbconvert_exporter": "python",
   "pygments_lexer": "ipython3",
   "version": "3.7.7"
  }
 },
 "nbformat": 4,
 "nbformat_minor": 5
}
