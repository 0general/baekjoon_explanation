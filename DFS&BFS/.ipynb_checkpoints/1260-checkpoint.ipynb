{
 "cells": [
  {
   "cell_type": "markdown",
   "id": "2594e511",
   "metadata": {},
   "source": [
    "# DFS와 BFS"
   ]
  },
  {
   "cell_type": "code",
   "execution_count": 1,
   "id": "099d770e",
   "metadata": {},
   "outputs": [],
   "source": [
    "from collections import deque"
   ]
  },
  {
   "cell_type": "markdown",
   "id": "2a19cb6c",
   "metadata": {},
   "source": [
    "https://www.acmicpc.net/problem/1260"
   ]
  },
  {
   "attachments": {},
   "cell_type": "markdown",
   "id": "5d2de2f8",
   "metadata": {},
   "source": [
    "![image.png](image/1260%20DFS와%20BFS.png)"
   ]
  },
  {
   "cell_type": "code",
   "execution_count": null,
   "id": "a644789b",
   "metadata": {},
   "outputs": [],
   "source": [
    "def dfs(adj, v, visited):\n",
    "    visited[v] = True\n",
    "    print(v, end=' ')\n",
    "    if v in adj:\n",
    "        for i in adj[v]:\n",
    "            if not visited[i]:\n",
    "                dfs(adj, i, visited)"
   ]
  },
  {
   "attachments": {},
   "cell_type": "markdown",
   "id": "72ce7576",
   "metadata": {},
   "source": [
    "![image.png](image/1260%20DFS와%20BFS-DFS.png)"
   ]
  },
  {
   "cell_type": "code",
   "execution_count": null,
   "id": "0a2fad5e",
   "metadata": {},
   "outputs": [],
   "source": [
    "def bfs(adj, v, visited):\n",
    "    queue = deque([v])\n",
    "    visited[v] = True\n",
    "\n",
    "    while queue:\n",
    "        nv = queue.popleft()\n",
    "        print(nv, end=' ')\n",
    "        if nv in adj:\n",
    "            for i in adj[nv]:\n",
    "                if not visited[i]:\n",
    "                    queue.append(i)\n",
    "                    visited[i] = True"
   ]
  },
  {
   "attachments": {},
   "cell_type": "markdown",
   "id": "c1ce18c5",
   "metadata": {},
   "source": [
    "![image.png](image/1260%20DFS와%20BFS-BFS.png)"
   ]
  },
  {
   "cell_type": "code",
   "execution_count": null,
   "id": "a6d59955",
   "metadata": {},
   "outputs": [],
   "source": [
    "# 정점 수, 간선 개수, 시작 정점\n",
    "n, m, v = list(map(int, input().split()))\n",
    "visited1 = [False]*(n+1)\n",
    "visited2 = [False]*(n+1)\n",
    "adj = dict()\n",
    "for _ in range(m):\n",
    "    i, j = map(int, input().split())\n",
    "    if i in adj:\n",
    "        adj[i].append(j)\n",
    "    else:\n",
    "        adj[i] = [j]\n",
    "    if j in adj:\n",
    "        adj[j].append(i)\n",
    "    else:\n",
    "        adj[j] = [i]\n",
    "    adj[i].sort()\n",
    "    adj[j].sort()\n",
    "\n",
    "\n",
    "dfs(adj, v, visited1)\n",
    "print()\n",
    "bfs(adj, v, visited2)"
   ]
  }
 ],
 "metadata": {
  "kernelspec": {
   "display_name": "Python 3",
   "language": "python",
   "name": "python3"
  },
  "language_info": {
   "codemirror_mode": {
    "name": "ipython",
    "version": 3
   },
   "file_extension": ".py",
   "mimetype": "text/x-python",
   "name": "python",
   "nbconvert_exporter": "python",
   "pygments_lexer": "ipython3",
   "version": "3.7.7"
  }
 },
 "nbformat": 4,
 "nbformat_minor": 5
}
