{
 "cells": [
  {
   "cell_type": "markdown",
   "id": "0beed6b8",
   "metadata": {},
   "source": [
    "# [숨바꼭질](https://www.acmicpc.net/problem/1697)"
   ]
  },
  {
   "cell_type": "markdown",
   "id": "c1a2d79b",
   "metadata": {},
   "source": [
    "![](image/1697.png)"
   ]
  },
  {
   "cell_type": "markdown",
   "id": "07c35379",
   "metadata": {},
   "source": [
    "### 큐를 이용하고, 도착 위치마다 최소의 시간을 기록(visited 역할)"
   ]
  },
  {
   "cell_type": "code",
   "execution_count": null,
   "id": "e99dce5c",
   "metadata": {},
   "outputs": [],
   "source": [
    "from collections import deque"
   ]
  },
  {
   "cell_type": "code",
   "execution_count": null,
   "id": "00f526d0",
   "metadata": {},
   "outputs": [],
   "source": [
    "# 수빈이와 동생의 위치\n",
    "n, k = map(int, input().split())\n",
    "location = [0]*100001\n",
    "q = deque()\n",
    "cnt = 0\n",
    "if n != k:\n",
    "    q.append((n, cnt))\n",
    "while q:\n",
    "    now, cnt = q.popleft()\n",
    "    if now == k:\n",
    "        break\n",
    "    for x in (now-1, now+1, now*2):\n",
    "        if 0 <= x <= 100000 and location[x] == 0: # 이미 도착한 적 있는 위치는 q에 넣지 않음\n",
    "            location[x] = cnt+1\n",
    "            q.append((x, cnt+1))\n",
    "\n",
    "print(location[k])"
   ]
  }
 ],
 "metadata": {
  "kernelspec": {
   "display_name": "Python 3",
   "language": "python",
   "name": "python3"
  },
  "language_info": {
   "codemirror_mode": {
    "name": "ipython",
    "version": 3
   },
   "file_extension": ".py",
   "mimetype": "text/x-python",
   "name": "python",
   "nbconvert_exporter": "python",
   "pygments_lexer": "ipython3",
   "version": "3.7.7"
  }
 },
 "nbformat": 4,
 "nbformat_minor": 5
}
