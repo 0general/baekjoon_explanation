{
 "cells": [
  {
   "cell_type": "markdown",
   "metadata": {},
   "source": [
    "# 연결 요소의 개수"
   ]
  },
  {
   "cell_type": "markdown",
   "metadata": {},
   "source": [
    "## 연결된 정점 그룹의 수를 반환한다고 생각하자"
   ]
  },
  {
   "cell_type": "markdown",
   "metadata": {},
   "source": [
    "![](image/11724.png)"
   ]
  },
  {
   "cell_type": "markdown",
   "metadata": {},
   "source": [
    "### dfs bfs 모두 가능하지만 연결된 정점의 끝까지 가야하므로 이 풀이에서는 dfs로 풀었다.\n",
    "\n",
    "모든 정점을 확인하며 앞선 dfs()종료 후에도 아직 방문하지 않은 노드가 있다면 다른 정점 그룹에 해당한다는 의미이므로\n",
    "그룹 수를 저장하는 cnt 변수에 값을 +1 해준다."
   ]
  },
  {
   "cell_type": "code",
   "execution_count": null,
   "metadata": {},
   "outputs": [],
   "source": [
    "import sys\n",
    "input = sys.stdin.readline\n",
    "\n",
    "\n",
    "def dfs(i):\n",
    "    for j in arr[i]:\n",
    "        if not visit[j]:\n",
    "            visit[j] = True\n",
    "            dfs(j)\n",
    "    return\n",
    "\n",
    "\n",
    "cnt = 0\n",
    "n, m = map(int, input().split())\n",
    "\n",
    "arr = [[] for _ in range(n+1)]\n",
    "visit = [False] * (n+1)\n",
    "\n",
    "for _ in range(m):\n",
    "    u, v = map(int, input().split())\n",
    "    arr[u].append(v)\n",
    "    arr[v].append(u)\n",
    "\n",
    "for i in range(1, n+1):\n",
    "    if not visit[i]:\n",
    "        visit[i] = True\n",
    "        dfs(i)\n",
    "        cnt += 1\n",
    "\n",
    "print(cnt)"
   ]
  }
 ],
 "metadata": {
  "kernelspec": {
   "display_name": "Python 3",
   "language": "python",
   "name": "python3"
  },
  "language_info": {
   "codemirror_mode": {
    "name": "ipython",
    "version": 3
   },
   "file_extension": ".py",
   "mimetype": "text/x-python",
   "name": "python",
   "nbconvert_exporter": "python",
   "pygments_lexer": "ipython3",
   "version": "3.7.7"
  }
 },
 "nbformat": 4,
 "nbformat_minor": 2
}
