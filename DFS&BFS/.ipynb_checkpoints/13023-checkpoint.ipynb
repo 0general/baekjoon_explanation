{
 "cells": [
  {
   "cell_type": "markdown",
   "id": "3ec6afb9",
   "metadata": {},
   "source": [
    "# ABCDE"
   ]
  },
  {
   "cell_type": "markdown",
   "id": "3c61ffe8",
   "metadata": {},
   "source": [
    "https://www.acmicpc.net/problem/13023"
   ]
  },
  {
   "attachments": {},
   "cell_type": "markdown",
   "id": "5fe7669a",
   "metadata": {},
   "source": [
    "![image.png](image/13023%20ABCDE-문제%20이해.png)"
   ]
  },
  {
   "cell_type": "code",
   "execution_count": null,
   "id": "8341cff1",
   "metadata": {},
   "outputs": [],
   "source": [
    "import sys"
   ]
  },
  {
   "cell_type": "code",
   "execution_count": null,
   "id": "b59f4830",
   "metadata": {},
   "outputs": [],
   "source": [
    "# 사람 수, 관계 수\n",
    "n, m = map(int, input().split())\n",
    "\n",
    "rel = [[] for _ in range(n)]\n",
    "visit = [0] * n  # 방문 체크\n",
    "stack = []"
   ]
  },
  {
   "cell_type": "code",
   "execution_count": null,
   "id": "a27c7b7e",
   "metadata": {},
   "outputs": [],
   "source": [
    "# 관계 입력\n",
    "for k in range(m):\n",
    "    i, j = map(int, input().split())\n",
    "    rel[i].append(j)\n",
    "    rel[j].append(i)"
   ]
  },
  {
   "cell_type": "code",
   "execution_count": null,
   "id": "b26bb728",
   "metadata": {},
   "outputs": [],
   "source": [
    "def dfs(i, top):\n",
    "    stack.append(i)\n",
    "    top += 1\n",
    "    visit[i] = 1\n",
    "    if top >= 4:\n",
    "        print(1)\n",
    "        sys.exit()\n",
    "    for v in rel[i]:\n",
    "        if not visit[v]:\n",
    "            dfs(v, top)\n",
    "    visit[stack[top]] = 0\n",
    "    stack.pop()\n",
    "    top -= 1"
   ]
  },
  {
   "attachments": {},
   "cell_type": "markdown",
   "id": "a6768347",
   "metadata": {},
   "source": [
    "![image.png](image/13023%20ABCDE.png)"
   ]
  },
  {
   "cell_type": "code",
   "execution_count": null,
   "id": "313f6430",
   "metadata": {},
   "outputs": [],
   "source": [
    "for i in range(n):\n",
    "    stack = []\n",
    "    top = -1\n",
    "    if not visit[i]:\n",
    "        dfs(i, top)\n",
    "    if top >= 4:\n",
    "        break\n",
    "\n",
    "# top이 4 이상일 때 빠져나오지 못 함\n",
    "print(0)"
   ]
  }
 ],
 "metadata": {
  "kernelspec": {
   "display_name": "Python 3",
   "language": "python",
   "name": "python3"
  },
  "language_info": {
   "codemirror_mode": {
    "name": "ipython",
    "version": 3
   },
   "file_extension": ".py",
   "mimetype": "text/x-python",
   "name": "python",
   "nbconvert_exporter": "python",
   "pygments_lexer": "ipython3",
   "version": "3.7.7"
  }
 },
 "nbformat": 4,
 "nbformat_minor": 5
}
