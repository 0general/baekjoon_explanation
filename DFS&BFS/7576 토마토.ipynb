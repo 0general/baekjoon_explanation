{
 "cells": [
  {
   "cell_type": "markdown",
   "id": "67af536d",
   "metadata": {},
   "source": [
    "# 토마토\n",
    "[https://www.acmicpc.net/problem/7576](https://www.acmicpc.net/problem/7576)"
   ]
  },
  {
   "cell_type": "markdown",
   "id": "3cd1f698",
   "metadata": {},
   "source": [
    "## BFS\n",
    "### > 사실상 큐를 이용한 완전 탐색"
   ]
  },
  {
   "cell_type": "markdown",
   "id": "65f9e039",
   "metadata": {},
   "source": [
    "![](image/7576.png)"
   ]
  },
  {
   "cell_type": "code",
   "execution_count": null,
   "id": "d6adf09e",
   "metadata": {},
   "outputs": [],
   "source": [
    "import sys\n",
    "from collections import deque"
   ]
  },
  {
   "cell_type": "code",
   "execution_count": null,
   "id": "5cc506f4",
   "metadata": {},
   "outputs": [],
   "source": [
    "def bfs():\n",
    "    result = 0\n",
    "    while q:\n",
    "        day, x, y = q.popleft()\n",
    "        for i in range(4):\n",
    "            nx, ny = x + dx[i], y + dy[i]\n",
    "            if 0 <= nx < n and 0 <= ny < m and tomatoes[nx][ny] == 0:\n",
    "                tomatoes[nx][ny] = 1\n",
    "                q.append((day+1, nx, ny))\n",
    "                result = day + 1\n",
    "    return result"
   ]
  },
  {
   "cell_type": "code",
   "execution_count": null,
   "id": "6adf64e3",
   "metadata": {},
   "outputs": [],
   "source": [
    "input = sys.stdin.readline"
   ]
  },
  {
   "cell_type": "code",
   "execution_count": null,
   "id": "44dc5aca",
   "metadata": {},
   "outputs": [],
   "source": [
    "# n행 m열\n",
    "m, n = map(int, input().split())\n",
    "tomatoes = []\n",
    "q = deque()\n",
    "dx = [-1, 1, 0, 0]\n",
    "dy = [0, 0, -1, 1]"
   ]
  },
  {
   "cell_type": "code",
   "execution_count": null,
   "id": "732e5866",
   "metadata": {},
   "outputs": [],
   "source": [
    "# 입력 받으면서 이미 익어있어서 숙성 출발지가 되어줄 토마토를 q에 삽입\n",
    "for i in range(n):\n",
    "    tomatoes.append(list(map(int, input().split())))\n",
    "    for j in range(m):\n",
    "        if tomatoes[i][j] == 1:\n",
    "            # 이미 익어있는 토마토 구함\n",
    "            q.append((0, i, j))"
   ]
  },
  {
   "cell_type": "code",
   "execution_count": null,
   "id": "c6da486e",
   "metadata": {},
   "outputs": [],
   "source": [
    "# 토마토 후숙시키기\n",
    "result = bfs()\n",
    "# bfs를 다 돌아도 익지 못한 토마토가 있는지 검사\n",
    "for i in range(n):\n",
    "    for j in range(m):\n",
    "        if tomatoes[i][j] == 0:\n",
    "            result = -1\n",
    "            break\n",
    "    if result == -1:\n",
    "        break\n",
    "\n",
    "print(result)"
   ]
  }
 ],
 "metadata": {
  "kernelspec": {
   "display_name": "Python 3",
   "language": "python",
   "name": "python3"
  },
  "language_info": {
   "codemirror_mode": {
    "name": "ipython",
    "version": 3
   },
   "file_extension": ".py",
   "mimetype": "text/x-python",
   "name": "python",
   "nbconvert_exporter": "python",
   "pygments_lexer": "ipython3",
   "version": "3.7.7"
  }
 },
 "nbformat": 4,
 "nbformat_minor": 5
}
