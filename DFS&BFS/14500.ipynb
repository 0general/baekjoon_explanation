{
 "cells": [
  {
   "cell_type": "markdown",
   "id": "17fac711",
   "metadata": {},
   "source": [
    "# 테트로미노"
   ]
  },
  {
   "cell_type": "markdown",
   "id": "14ebe494",
   "metadata": {},
   "source": [
    "https://www.acmicpc.net/problem/14500"
   ]
  },
  {
   "attachments": {},
   "cell_type": "markdown",
   "id": "c57405a0",
   "metadata": {},
   "source": [
    "![image.png](image/14500%20테트로미노-추론.png)"
   ]
  },
  {
   "attachments": {},
   "cell_type": "markdown",
   "id": "4aa8b51d",
   "metadata": {},
   "source": [
    "![image.png](image/14500%20테트로미노-설계.png)"
   ]
  },
  {
   "cell_type": "code",
   "execution_count": null,
   "id": "29d22ff1",
   "metadata": {},
   "outputs": [],
   "source": [
    "def dfs(i, j, cnt, hap, big, visit):  # 현재 위치 i,j / dfs count, 최대값 구하기 위한 합\n",
    "    # 현재 위치에서 cnt == 4 이면 hap에 더하고 big이랑 max 따져서 return\n",
    "    if cnt > 4:\n",
    "        return big\n",
    "    if cnt == 4:\n",
    "        big = max(big, hap+poly[i][j])\n",
    "    else:\n",
    "        for k in range(4):\n",
    "            nowx = i+dx[k]\n",
    "            nowy = j+dy[k]\n",
    "            if 0 <= nowx < n and 0 <= nowy < m and not visit[nowx][nowy]:\n",
    "                if cnt == 2:\n",
    "                    visit[nowx][nowy] = True\n",
    "                    big = dfs(i, j, cnt+1, hap+poly[nowx][nowy], big, visit)\n",
    "                    visit[nowx][nowy] = False\n",
    "                visit[nowx][nowy] = True\n",
    "                big = dfs(nowx, nowy, cnt+1, hap+poly[i][j], big, visit)\n",
    "                visit[nowx][nowy] = False\n",
    "    return big"
   ]
  },
  {
   "cell_type": "code",
   "execution_count": null,
   "id": "aeafe719",
   "metadata": {},
   "outputs": [],
   "source": [
    "n, m = map(int, input().split())\n",
    "poly = [list(map(int, input().split())) for _ in range(n)]\n",
    "visit = []\n",
    "dx = [-1, 1, 0, 0]\n",
    "dy = [0, 0, -1, 1]"
   ]
  },
  {
   "cell_type": "code",
   "execution_count": null,
   "id": "262104de",
   "metadata": {},
   "outputs": [],
   "source": [
    "big = -1\n",
    "visit = [[False]*m for _ in range(n)]\n",
    "\n",
    "for i in range(n):\n",
    "    for j in range(m):\n",
    "        visit[i][j] = True\n",
    "        big = dfs(i, j, 1, 0, big, visit)\n",
    "        visit[i][j] = False\n",
    "\n",
    "print(big)"
   ]
  }
 ],
 "metadata": {
  "kernelspec": {
   "display_name": "Python 3",
   "language": "python",
   "name": "python3"
  },
  "language_info": {
   "codemirror_mode": {
    "name": "ipython",
    "version": 3
   },
   "file_extension": ".py",
   "mimetype": "text/x-python",
   "name": "python",
   "nbconvert_exporter": "python",
   "pygments_lexer": "ipython3",
   "version": "3.7.7"
  }
 },
 "nbformat": 4,
 "nbformat_minor": 5
}
