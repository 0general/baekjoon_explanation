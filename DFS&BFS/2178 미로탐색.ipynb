{
 "cells": [
  {
   "cell_type": "markdown",
   "id": "01da9d12",
   "metadata": {},
   "source": [
    "# 미로 탐색\n",
    "\n",
    "[https://www.acmicpc.net/problem/2178](https://www.acmicpc.net/problem/2178)"
   ]
  },
  {
   "cell_type": "markdown",
   "id": "db11e550",
   "metadata": {},
   "source": [
    "### 기본 BFS\n",
    "<br>\n",
    "\n",
    "### 상하좌우로 최소로 이동"
   ]
  },
  {
   "cell_type": "code",
   "execution_count": null,
   "id": "02f4e1ba",
   "metadata": {},
   "outputs": [],
   "source": [
    "from collections import deque\n",
    "\n",
    "n, m = map(int, input().split())\n",
    "\n",
    "road = [list(map(int, list(input()))) for _ in range(n)]\n",
    "visit = [[False]*m for _ in range(n)]\n",
    "\n",
    "dx = [-1, 1, 0, 0]\n",
    "dy = [0, 0, -1, 1]\n",
    "\n",
    "x, y = 0, 0\n",
    "\n",
    "d = deque()\n",
    "\n",
    "d.append([x, y])\n",
    "while d:\n",
    "    x, y = d.popleft()\n",
    "    visit[x][y] = True\n",
    "    for i in range(4):\n",
    "        nx, ny = x + dx[i], y + dy[i]\n",
    "        if nx >= 0 and nx < n and ny >= 0 and ny < m:\n",
    "            if road[nx][ny] == 1 and not visit[nx][ny]:\n",
    "                road[nx][ny] += road[x][y]\n",
    "                d.append([nx, ny])\n",
    "            elif road[nx][ny] >= 1 and visit[nx][ny]:\n",
    "                if road[nx][ny] > road[x][y] + 1:\n",
    "                    road[nx][ny] == road[x][y] + 1\n",
    "\n",
    "print(road[n-1][m-1])"
   ]
  }
 ],
 "metadata": {
  "kernelspec": {
   "display_name": "Python 3",
   "language": "python",
   "name": "python3"
  },
  "language_info": {
   "codemirror_mode": {
    "name": "ipython",
    "version": 3
   },
   "file_extension": ".py",
   "mimetype": "text/x-python",
   "name": "python",
   "nbconvert_exporter": "python",
   "pygments_lexer": "ipython3",
   "version": "3.7.7"
  }
 },
 "nbformat": 4,
 "nbformat_minor": 5
}
