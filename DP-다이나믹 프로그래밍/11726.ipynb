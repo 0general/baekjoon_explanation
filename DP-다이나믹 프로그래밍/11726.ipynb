{
 "cells": [
  {
   "cell_type": "markdown",
   "id": "51ad69c5",
   "metadata": {},
   "source": [
    "# 2×n 타일링"
   ]
  },
  {
   "cell_type": "markdown",
   "id": "bc26bb64",
   "metadata": {},
   "source": [
    "https://www.acmicpc.net/problem/11726"
   ]
  },
  {
   "attachments": {},
   "cell_type": "markdown",
   "id": "e40212a4",
   "metadata": {},
   "source": [
    "![image.png](image/11726%202×n%20타일링.png)"
   ]
  },
  {
   "cell_type": "code",
   "execution_count": null,
   "id": "a49870d3",
   "metadata": {},
   "outputs": [],
   "source": [
    "n = int(input())\n",
    "\n",
    "dp = [1]*(n+1)\n",
    "if n >= 2:\n",
    "    for i in range(2, n+1):\n",
    "        dp[i] = dp[i-1]+dp[i-2]\n",
    "print(dp[n] % 10007)"
   ]
  }
 ],
 "metadata": {
  "kernelspec": {
   "display_name": "Python 3",
   "language": "python",
   "name": "python3"
  },
  "language_info": {
   "codemirror_mode": {
    "name": "ipython",
    "version": 3
   },
   "file_extension": ".py",
   "mimetype": "text/x-python",
   "name": "python",
   "nbconvert_exporter": "python",
   "pygments_lexer": "ipython3",
   "version": "3.7.7"
  }
 },
 "nbformat": 4,
 "nbformat_minor": 5
}
