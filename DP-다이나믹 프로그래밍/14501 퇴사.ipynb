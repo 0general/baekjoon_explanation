{
 "cells": [
  {
   "cell_type": "markdown",
   "id": "fba179e9",
   "metadata": {},
   "source": [
    "# [퇴사](https://www.acmicpc.net/problem/14501)"
   ]
  },
  {
   "cell_type": "markdown",
   "id": "45534f07",
   "metadata": {},
   "source": [
    "![](image/14501.png)"
   ]
  },
  {
   "cell_type": "code",
   "execution_count": null,
   "id": "6a5cb8b6",
   "metadata": {},
   "outputs": [],
   "source": [
    "n = int(input())\n",
    "dp = [0]*(n+1)\n",
    "\n",
    "for i in range(1, n+1): # i번째 날\n",
    "    duration, profit = map(int, input().split()) # i번째 날에 받은 상담\n",
    "    idx = i+duration - 1 #상담 종료 날짜\n",
    "    if idx <= n: # 퇴사 전까지 상담이 완료된다면\n",
    "        dp[idx] = max(dp[i-1]+profit, dp[idx]) # 상담 종료 날짜에 가질 최대 이익의 가능성\n",
    "    dp[i] = max(dp[i-1], dp[i]) # i번째 날까지 벌 수 있는 최대 이익은 전날의 이익과 오늘로 상담이 완료되어 번 이익 중 높은 것 중 선택\n",
    "\n",
    "print(dp[n])"
   ]
  }
 ],
 "metadata": {
  "kernelspec": {
   "display_name": "Python 3",
   "language": "python",
   "name": "python3"
  },
  "language_info": {
   "codemirror_mode": {
    "name": "ipython",
    "version": 3
   },
   "file_extension": ".py",
   "mimetype": "text/x-python",
   "name": "python",
   "nbconvert_exporter": "python",
   "pygments_lexer": "ipython3",
   "version": "3.7.7"
  }
 },
 "nbformat": 4,
 "nbformat_minor": 5
}
