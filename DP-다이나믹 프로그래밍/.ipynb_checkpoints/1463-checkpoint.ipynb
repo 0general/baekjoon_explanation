{
 "cells": [
  {
   "cell_type": "markdown",
   "id": "f6756095",
   "metadata": {},
   "source": [
    "# 1로 만들기"
   ]
  },
  {
   "cell_type": "markdown",
   "id": "9ff6989b",
   "metadata": {},
   "source": [
    "https://www.acmicpc.net/problem/1463"
   ]
  },
  {
   "attachments": {},
   "cell_type": "markdown",
   "id": "7a47dd6d",
   "metadata": {},
   "source": [
    "![image.png](image/1463%201로%20만들기.png)"
   ]
  },
  {
   "cell_type": "code",
   "execution_count": null,
   "id": "2500bd77",
   "metadata": {},
   "outputs": [],
   "source": [
    "d = [0]*1000001\n",
    "\n",
    "n = int(input())\n",
    "\n",
    "for i in range(2, n+1):\n",
    "    d[i] = d[i-1] + 1\n",
    "    if i % 2 == 0:\n",
    "        d[i] = min(d[i], d[i//2] + 1)\n",
    "    if i % 3 == 0:\n",
    "        d[i] = min(d[i], d[i//3] + 1)\n",
    "\n",
    "print(d[n])"
   ]
  },
  {
   "attachments": {},
   "cell_type": "markdown",
   "id": "2a85b578",
   "metadata": {},
   "source": [
    "![image.png](image/1463%201로%20만들기-10.png)"
   ]
  }
 ],
 "metadata": {
  "kernelspec": {
   "display_name": "Python 3",
   "language": "python",
   "name": "python3"
  },
  "language_info": {
   "codemirror_mode": {
    "name": "ipython",
    "version": 3
   },
   "file_extension": ".py",
   "mimetype": "text/x-python",
   "name": "python",
   "nbconvert_exporter": "python",
   "pygments_lexer": "ipython3",
   "version": "3.7.7"
  }
 },
 "nbformat": 4,
 "nbformat_minor": 5
}
