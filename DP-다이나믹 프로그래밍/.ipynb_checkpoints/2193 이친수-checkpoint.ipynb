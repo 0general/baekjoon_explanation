{
 "cells": [
  {
   "cell_type": "markdown",
   "id": "8f547085",
   "metadata": {},
   "source": [
    "# [이친수](https://www.acmicpc.net/problem/2193)"
   ]
  },
  {
   "cell_type": "markdown",
   "id": "04b1ccd7",
   "metadata": {},
   "source": [
    "![](image/2193.png)"
   ]
  },
  {
   "cell_type": "code",
   "execution_count": null,
   "id": "bee3b538",
   "metadata": {},
   "outputs": [],
   "source": [
    "import sys\n",
    "input = sys.stdin.readline"
   ]
  },
  {
   "cell_type": "code",
   "execution_count": null,
   "id": "74b644a2",
   "metadata": {},
   "outputs": [],
   "source": [
    "n = int(input())\n",
    "dp = [[0, 0] for _ in range(n+1)] # [마지막 수가 0인 수의 개수, 마지막 수가 1인 수의 개수]\n",
    "\n",
    "dp[1] = [0, 1] \n",
    "\n",
    "for i in range(2, n+1):\n",
    "    dp[i] = [sum(dp[i-1]), dp[i-1][0]] \n",
    "    # i-1 자릿수의 뒤에 0을 붙인 수는 앞이 1로 끝나든 0으로 끝나든 상관없다.\n",
    "    # 1을 덧붙이려면 앞이 1이면 안되므로 0으로 끝나는 숫자만 가져온다.\n",
    "\n",
    "print(sum(dp[n]))"
   ]
  }
 ],
 "metadata": {
  "kernelspec": {
   "display_name": "Python 3",
   "language": "python",
   "name": "python3"
  },
  "language_info": {
   "codemirror_mode": {
    "name": "ipython",
    "version": 3
   },
   "file_extension": ".py",
   "mimetype": "text/x-python",
   "name": "python",
   "nbconvert_exporter": "python",
   "pygments_lexer": "ipython3",
   "version": "3.7.7"
  }
 },
 "nbformat": 4,
 "nbformat_minor": 5
}
