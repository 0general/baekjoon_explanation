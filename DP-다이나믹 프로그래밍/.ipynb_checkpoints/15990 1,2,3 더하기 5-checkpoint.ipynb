{
 "cells": [
  {
   "cell_type": "markdown",
   "id": "fd0a638d",
   "metadata": {},
   "source": [
    "# 1,2,3 더하기 5\n",
    "\n",
    "[https://www.acmicpc.net/problem/15990](https://www.acmicpc.net/problem/15990)"
   ]
  },
  {
   "cell_type": "markdown",
   "id": "25771784",
   "metadata": {},
   "source": [
    "### 모든 수는 1과 2와 3의 덧셈으로 구성되어있다. \n",
    "<br>\n",
    "<br>\n",
    "\n",
    "### 수의 구성의 덧셈의 나열로 이루어져있다고 가정했을 때, \n",
    "### 어떤 수는 이전의 다른 수의 덧셈 표현의 마지막에 +1, +2, +3을 더하여 만들어진다."
   ]
  },
  {
   "cell_type": "markdown",
   "id": "ae33e506",
   "metadata": {},
   "source": [
    "### 그럼 이제 어떤 임의의 수가 만들어질 수 있는 방식의 개수를 마지막 덧셈의 숫자 별로 나누어서 생각해보자.\n",
    "<br>\n",
    "\n",
    "### 다이나믹 테이블의 정의는 어떤 수가 만들어지는 방식의 수\n",
    "### 그 값은 [마지막이 1, 마지막이 2, 마지막이 3] 으로 정의한다."
   ]
  },
  {
   "cell_type": "markdown",
   "id": "a4d0bcc0",
   "metadata": {},
   "source": [
    "![](image/15990.png)"
   ]
  },
  {
   "cell_type": "code",
   "execution_count": null,
   "id": "daa23cfb",
   "metadata": {},
   "outputs": [],
   "source": [
    "import sys\n",
    "input = sys.stdin.readline\n",
    "\n",
    "t = int(input())\n",
    "dp = [[0, 0, 0] for _ in range(100001)]"
   ]
  },
  {
   "cell_type": "markdown",
   "id": "351d7be3",
   "metadata": {},
   "source": [
    "### dp 테이블에 들어갈 값 : 마지막으로 더해진 수가 1,2,3인 개수 배열"
   ]
  },
  {
   "cell_type": "code",
   "execution_count": null,
   "id": "995d2ba6",
   "metadata": {},
   "outputs": [],
   "source": [
    "dp[1] = [1, 0, 0]\n",
    "dp[2] = [0, 1, 0]\n",
    "dp[3] = [1, 1, 1]"
   ]
  },
  {
   "cell_type": "code",
   "execution_count": null,
   "id": "ab7655cd",
   "metadata": {},
   "outputs": [],
   "source": [
    "n = []\n",
    "for _ in range(t):\n",
    "    n.append(int(input()))"
   ]
  },
  {
   "cell_type": "code",
   "execution_count": null,
   "id": "7b5aed4f",
   "metadata": {},
   "outputs": [],
   "source": [
    "for i in range(4, max(n)+1):  # 모듈러 연산의 성질에 따라 (A+B)%C = (A%C + B%C)%C\n",
    "    if dp[i] == [0, 0, 0]:\n",
    "        # 숫자 i-1에서 1을 더하는 경우 - 1으로 끝난 경우 제외하고 전부\n",
    "        dp[i][0] = (dp[i-1][1] + dp[i-1][2]) % 1000000009  # 2로 끝난 경우, 3으로 끝난 경우\n",
    "        # 숫자 i-2에서 2을 더하는 경우 - 2으로 끝난 경우 제외하고 전부\n",
    "        dp[i][1] = (dp[i-2][0] + dp[i-2][2]) % 1000000009  # 1로 끝난 경우, 3으로 끝난 경우\n",
    "        # 숫자 i-3에서 3을 더하는 경우 - 3으로 끝난 경우 제외하고 전부\n",
    "        dp[i][2] = (dp[i-3][0] + dp[i-3][1]) % 1000000009  # 1로 끝난 경우, 2로 끝난 경우\n",
    "\n",
    "        # 각각 모듈러 연산을 안해주는 경우 숫자가 커져 덧셈 연산에 시간이 오래 걸리며 시간 초과가 난다."
   ]
  },
  {
   "cell_type": "code",
   "execution_count": null,
   "id": "d4c9d2a6",
   "metadata": {},
   "outputs": [],
   "source": [
    "for num in n:\n",
    "    print(sum(dp[num]) % 1000000009)"
   ]
  }
 ],
 "metadata": {
  "kernelspec": {
   "display_name": "Python 3",
   "language": "python",
   "name": "python3"
  },
  "language_info": {
   "codemirror_mode": {
    "name": "ipython",
    "version": 3
   },
   "file_extension": ".py",
   "mimetype": "text/x-python",
   "name": "python",
   "nbconvert_exporter": "python",
   "pygments_lexer": "ipython3",
   "version": "3.7.7"
  }
 },
 "nbformat": 4,
 "nbformat_minor": 5
}
