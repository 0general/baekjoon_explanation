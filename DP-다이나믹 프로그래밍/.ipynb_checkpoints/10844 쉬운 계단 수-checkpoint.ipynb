{
 "cells": [
  {
   "cell_type": "markdown",
   "id": "8176dbb0",
   "metadata": {},
   "source": [
    "# 쉬운 계단 수\n",
    "[https://www.acmicpc.net/problem/10844](https://www.acmicpc.net/problem/10844)"
   ]
  },
  {
   "cell_type": "markdown",
   "id": "e9ad01aa",
   "metadata": {},
   "source": [
    "## 계단 수는 어떤 계단 수의 뒤에 자릿수를 하나씩 늘리며 조건을 만족하도록 숫자를 채워주면 된다"
   ]
  },
  {
   "cell_type": "markdown",
   "id": "74f313d1",
   "metadata": {},
   "source": [
    "![](image/10844.png)"
   ]
  },
  {
   "cell_type": "code",
   "execution_count": null,
   "id": "7a740a8a",
   "metadata": {},
   "outputs": [],
   "source": [
    "# 길이 n은 1보다 크거나 같고 100보다 작거나 같은 수\n",
    "n = int(input())"
   ]
  },
  {
   "cell_type": "code",
   "execution_count": null,
   "id": "5bbc21ce",
   "metadata": {},
   "outputs": [],
   "source": [
    "dp = [0] * (101)\n",
    "dp[1] = [0, 1, 1, 1, 1, 1, 1, 1, 1, 1]"
   ]
  },
  {
   "cell_type": "markdown",
   "id": "07f4108a",
   "metadata": {},
   "source": [
    "### 초기 값 dp[1] 은 0을 제외한 모든 숫자가 올 수 있다. (0으로 시작하는 계단 수가 없으므로 0 제외)"
   ]
  },
  {
   "cell_type": "code",
   "execution_count": null,
   "id": "0c0d5844",
   "metadata": {},
   "outputs": [],
   "source": [
    "for i in range(2, n+1):\n",
    "    # 끝자리에 수 하나당 끝자리에 1씩 크고, 작은 2개의 수가 계단 수 생성.\n",
    "    # 0과 9의 경우만 제외\n",
    "    dp[i] = [dp[i-1][1],\n",
    "             dp[i-1][0]+dp[i-1][2],\n",
    "             dp[i-1][1]+dp[i-1][3],\n",
    "             dp[i-1][2]+dp[i-1][4],\n",
    "             dp[i-1][3]+dp[i-1][5],\n",
    "             dp[i-1][4]+dp[i-1][6],\n",
    "             dp[i-1][5]+dp[i-1][7],\n",
    "             dp[i-1][6]+dp[i-1][8],\n",
    "             dp[i-1][7]+dp[i-1][9],\n",
    "             dp[i-1][8]]\n",
    "\n",
    "print(sum(dp[n]) % 1000000000)"
   ]
  }
 ],
 "metadata": {
  "kernelspec": {
   "display_name": "Python 3",
   "language": "python",
   "name": "python3"
  },
  "language_info": {
   "codemirror_mode": {
    "name": "ipython",
    "version": 3
   },
   "file_extension": ".py",
   "mimetype": "text/x-python",
   "name": "python",
   "nbconvert_exporter": "python",
   "pygments_lexer": "ipython3",
   "version": "3.7.7"
  }
 },
 "nbformat": 4,
 "nbformat_minor": 5
}
