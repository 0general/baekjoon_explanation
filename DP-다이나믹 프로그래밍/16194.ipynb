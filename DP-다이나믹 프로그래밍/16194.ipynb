{
 "cells": [
  {
   "cell_type": "markdown",
   "id": "63397c1f",
   "metadata": {},
   "source": [
    "[카드 구매하기2 - 최솟값 구하기](https://www.acmicpc.net/problem/16194)"
   ]
  },
  {
   "cell_type": "markdown",
   "id": "74f45ad8",
   "metadata": {},
   "source": [
    "![최소](image/16194.png)"
   ]
  },
  {
   "cell_type": "code",
   "execution_count": null,
   "id": "008455f9",
   "metadata": {},
   "outputs": [],
   "source": [
    "n = int(input())\n",
    "dp = [0] + list(map(int, input().split()))\n",
    "\n",
    "for now in range(2, n+1):\n",
    "    for i in range(1, now//2 + 1):\n",
    "        dp[now] = min(dp[now], dp[i] + dp[now-i])\n",
    "\n",
    "print(dp[n])"
   ]
  }
 ],
 "metadata": {
  "kernelspec": {
   "display_name": "Python 3",
   "language": "python",
   "name": "python3"
  },
  "language_info": {
   "codemirror_mode": {
    "name": "ipython",
    "version": 3
   },
   "file_extension": ".py",
   "mimetype": "text/x-python",
   "name": "python",
   "nbconvert_exporter": "python",
   "pygments_lexer": "ipython3",
   "version": "3.7.7"
  }
 },
 "nbformat": 4,
 "nbformat_minor": 5
}
