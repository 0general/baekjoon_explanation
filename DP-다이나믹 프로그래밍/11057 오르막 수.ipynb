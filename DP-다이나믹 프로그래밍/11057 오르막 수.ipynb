{
 "cells": [
  {
   "cell_type": "markdown",
   "id": "2c03e854",
   "metadata": {},
   "source": [
    "# [오르막 수](https://www.acmicpc.net/problem/11057)"
   ]
  },
  {
   "cell_type": "markdown",
   "id": "feeefa16",
   "metadata": {},
   "source": [
    "![](image/11057.png)"
   ]
  },
  {
   "cell_type": "code",
   "execution_count": null,
   "id": "62d08e7f",
   "metadata": {},
   "outputs": [],
   "source": [
    "# 길이 n\n",
    "n = int(input())\n",
    "dp = [0] * (n+1)\n",
    "dp[1] = [1]*10 # 오르막수의 마지막 자릿수별 개수\n",
    "for i in range(1, 10): # 누적합 다음 단계에서는 어차피 현재 숫자보다 작거나 같은 모든 숫자의 개수들을 합해서 갖게 됨.\n",
    "    dp[1][i] += dp[1][i-1] # dp의 마지막 열은 해당 자릿수의 모든 오르막 수의 합을 갖고 있다.\n",
    "\n",
    "for i in range(2,n+1):\n",
    "    dp[i] = [dp[i-1][j] % 10007 for j in range(10)]\n",
    "    for k in range(1, 10):\n",
    "        dp[i][k] += dp[i][k-1]\n",
    "\n",
    "print(dp[n][-1] % 10007)"
   ]
  }
 ],
 "metadata": {
  "kernelspec": {
   "display_name": "Python 3",
   "language": "python",
   "name": "python3"
  },
  "language_info": {
   "codemirror_mode": {
    "name": "ipython",
    "version": 3
   },
   "file_extension": ".py",
   "mimetype": "text/x-python",
   "name": "python",
   "nbconvert_exporter": "python",
   "pygments_lexer": "ipython3",
   "version": "3.7.7"
  }
 },
 "nbformat": 4,
 "nbformat_minor": 5
}
