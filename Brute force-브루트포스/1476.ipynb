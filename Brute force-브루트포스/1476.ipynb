{
 "cells": [
  {
   "cell_type": "markdown",
   "id": "e98af501",
   "metadata": {},
   "source": [
    "# 날짜계산"
   ]
  },
  {
   "cell_type": "markdown",
   "id": "82dc8b17",
   "metadata": {},
   "source": [
    "![](image/1476%20날짜%20계산.png)"
   ]
  },
  {
   "cell_type": "code",
   "execution_count": null,
   "id": "3f24680a",
   "metadata": {},
   "outputs": [],
   "source": [
    "'''\n",
    "https://www.acmicpc.net/problem/1476\n",
    "'''\n",
    "E, S, M = map(int, input().split())\n",
    "\n",
    "# 가장 숫자 범위가 큰 S로 검사\n",
    "i = 0\n",
    "while True:\n",
    "    # 검사할 숫자\n",
    "    num = (28 * i) + S\n",
    "    if M == 19:\n",
    "        m = 0\n",
    "    else:\n",
    "        m = M\n",
    "    if E == 15:\n",
    "        e = 0\n",
    "    else:\n",
    "        e = E\n",
    "    if num % 19 == m and num % 15 == e:\n",
    "        print(num)\n",
    "        break\n",
    "    i += 1\n"
   ]
  }
 ],
 "metadata": {
  "kernelspec": {
   "display_name": "Python 3",
   "language": "python",
   "name": "python3"
  },
  "language_info": {
   "codemirror_mode": {
    "name": "ipython",
    "version": 3
   },
   "file_extension": ".py",
   "mimetype": "text/x-python",
   "name": "python",
   "nbconvert_exporter": "python",
   "pygments_lexer": "ipython3",
   "version": "3.7.7"
  }
 },
 "nbformat": 4,
 "nbformat_minor": 5
}
