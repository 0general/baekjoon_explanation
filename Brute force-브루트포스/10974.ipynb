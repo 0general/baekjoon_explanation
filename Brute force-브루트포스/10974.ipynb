{
 "cells": [
  {
   "cell_type": "markdown",
   "id": "1dbe5035",
   "metadata": {},
   "source": [
    "[모든 순열](https://www.acmicpc.net/problem/10974)"
   ]
  },
  {
   "cell_type": "markdown",
   "id": "743a2fb0",
   "metadata": {},
   "source": [
    "### itertools package 사용"
   ]
  },
  {
   "cell_type": "code",
   "execution_count": null,
   "id": "d2153e27",
   "metadata": {},
   "outputs": [],
   "source": [
    "from itertools import permutations\n",
    "import sys\n",
    "\n",
    "input = sys.stdin.readline\n",
    "\n",
    "n = int(input())\n",
    "\n",
    "num = sorted(list(permutations(range(1, n+1), n)))\n",
    "\n",
    "for i in num:\n",
    "    for j in i:\n",
    "        print(j, end=' ')\n",
    "    print()"
   ]
  }
 ],
 "metadata": {
  "kernelspec": {
   "display_name": "Python 3",
   "language": "python",
   "name": "python3"
  },
  "language_info": {
   "codemirror_mode": {
    "name": "ipython",
    "version": 3
   },
   "file_extension": ".py",
   "mimetype": "text/x-python",
   "name": "python",
   "nbconvert_exporter": "python",
   "pygments_lexer": "ipython3",
   "version": "3.7.7"
  }
 },
 "nbformat": 4,
 "nbformat_minor": 5
}
