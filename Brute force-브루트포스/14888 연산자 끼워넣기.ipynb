{
 "cells": [
  {
   "cell_type": "markdown",
   "id": "d9e89eab",
   "metadata": {},
   "source": [
    "# 연산자 끼워넣기\n",
    "\n",
    "[https://www.acmicpc.net/problem/14888](https://www.acmicpc.net/problem/14888)"
   ]
  },
  {
   "cell_type": "markdown",
   "id": "65a3891f",
   "metadata": {},
   "source": [
    "### 연산자 우선순위 무시 = 앞에서부터 차례로 계산"
   ]
  },
  {
   "cell_type": "markdown",
   "id": "d1c2ade0",
   "metadata": {},
   "source": [
    "![](image/14888.png)"
   ]
  },
  {
   "cell_type": "code",
   "execution_count": null,
   "id": "e40d09f5",
   "metadata": {},
   "outputs": [],
   "source": [
    "import sys\n",
    "from itertools import permutations"
   ]
  },
  {
   "cell_type": "code",
   "execution_count": null,
   "id": "5504ef52",
   "metadata": {},
   "outputs": [],
   "source": [
    "def plus(i):\n",
    "    return temp + number[i]\n",
    "\n",
    "def minus(i):\n",
    "    return temp - number[i]\n",
    "\n",
    "def multiple(i):\n",
    "    return temp * number[i]\n",
    "\n",
    "def divide(i):\n",
    "    if temp < 0:\n",
    "        return -(-temp // number[i])\n",
    "    return temp // number[i]"
   ]
  },
  {
   "cell_type": "code",
   "execution_count": null,
   "id": "9fc913b2",
   "metadata": {},
   "outputs": [],
   "source": [
    "input = sys.stdin.readline"
   ]
  },
  {
   "cell_type": "code",
   "execution_count": null,
   "id": "5e538f0e",
   "metadata": {},
   "outputs": [],
   "source": [
    "op = [\"+\", \"-\", \"*\", \"/\"]\n",
    "func = {\"+\": plus, \"-\": minus, \"*\": multiple, \"/\": divide}"
   ]
  },
  {
   "cell_type": "code",
   "execution_count": null,
   "id": "a80f322a",
   "metadata": {},
   "outputs": [],
   "source": [
    "# 숫자의 개수\n",
    "n = int(input())"
   ]
  },
  {
   "cell_type": "code",
   "execution_count": null,
   "id": "181db5ff",
   "metadata": {},
   "outputs": [],
   "source": [
    "# 숫자\n",
    "number = list(map(int, input().split()))"
   ]
  },
  {
   "cell_type": "code",
   "execution_count": null,
   "id": "bd75bf82",
   "metadata": {},
   "outputs": [],
   "source": [
    "# 연산자별 개수\n",
    "opn = list(map(int, input().split()))"
   ]
  },
  {
   "cell_type": "code",
   "execution_count": null,
   "id": "93adc6d6",
   "metadata": {},
   "outputs": [],
   "source": [
    "oplist = []  # 모든 연산자를 담을 리스트"
   ]
  },
  {
   "cell_type": "code",
   "execution_count": null,
   "id": "c9aae0a2",
   "metadata": {},
   "outputs": [],
   "source": [
    "for i in range(4):\n",
    "    oplist += [op[i]]*opn[i]\n",
    "\n",
    "oplist = list(set(permutations(oplist, len(oplist))))"
   ]
  },
  {
   "cell_type": "code",
   "execution_count": null,
   "id": "1404d7c7",
   "metadata": {},
   "outputs": [],
   "source": [
    "max = -10**9\n",
    "min = 10**9"
   ]
  },
  {
   "cell_type": "code",
   "execution_count": null,
   "id": "7a2375e7",
   "metadata": {},
   "outputs": [],
   "source": [
    "for o in oplist:\n",
    "    temp = number[0]\n",
    "    for i in range(1, n):\n",
    "        temp = func[o[i-1]](i)\n",
    "    if temp > max:\n",
    "        max = temp\n",
    "    if temp < min:\n",
    "        min = temp"
   ]
  },
  {
   "cell_type": "code",
   "execution_count": null,
   "id": "5ac92df8",
   "metadata": {},
   "outputs": [],
   "source": [
    "print(max)\n",
    "print(min)"
   ]
  }
 ],
 "metadata": {
  "kernelspec": {
   "display_name": "Python 3",
   "language": "python",
   "name": "python3"
  },
  "language_info": {
   "codemirror_mode": {
    "name": "ipython",
    "version": 3
   },
   "file_extension": ".py",
   "mimetype": "text/x-python",
   "name": "python",
   "nbconvert_exporter": "python",
   "pygments_lexer": "ipython3",
   "version": "3.7.7"
  }
 },
 "nbformat": 4,
 "nbformat_minor": 5
}
