{
 "cells": [
  {
   "cell_type": "markdown",
   "id": "245650c8",
   "metadata": {},
   "source": [
    "# 암호 만들기\n",
    "[https://www.acmicpc.net/problem/1759](https://www.acmicpc.net/problem/1759)"
   ]
  },
  {
   "cell_type": "markdown",
   "id": "c971fd5a",
   "metadata": {},
   "source": [
    "![](image/1759.png)"
   ]
  },
  {
   "cell_type": "code",
   "execution_count": null,
   "id": "fd952a93",
   "metadata": {},
   "outputs": [],
   "source": [
    "def BT(idx, num, letter):  # 검사 시작 위치 idx, 모음 수 num, 반환할 letter\n",
    "    n = len(letter)\n",
    "    if c-idx < l-n: # 비밀번호를 만들기 위해서 채워야 할 자릿수보다 넣을 수 있는 문자 수가 작아지면 이 경우는 버린다.\n",
    "        return\n",
    "    if n == l: # 비밀번호 완성\n",
    "        if num >= 1 and l-num >= 2: # 모음 수 최소 1개 이상, 자음 수 최소 2개 이상\n",
    "            print(letter)\n",
    "        return\n",
    "    if idx >= c:\n",
    "        return\n",
    "    if al[idx] in m: # 체크할 문자가 모음이라면\n",
    "        BT(idx+1, num+1, letter+al[idx]) # 이 문자를 넣을 경우\n",
    "    else:\n",
    "        BT(idx+1, num, letter+al[idx]) # 모음이 아니라 자음인데 넣을 경우\n",
    "    BT(idx+1, num, letter) # 이번 문자를 넣지 않을 경우\n",
    "\n",
    "\n",
    "# 비밀번호 자릿수, 문자 수\n",
    "l, c = map(int, input().split())\n",
    "m = \"aeiou\"\n",
    "al = sorted(input().split())\n",
    "\n",
    "BT(0, 0, \"\")"
   ]
  }
 ],
 "metadata": {
  "kernelspec": {
   "display_name": "Python 3",
   "language": "python",
   "name": "python3"
  },
  "language_info": {
   "codemirror_mode": {
    "name": "ipython",
    "version": 3
   },
   "file_extension": ".py",
   "mimetype": "text/x-python",
   "name": "python",
   "nbconvert_exporter": "python",
   "pygments_lexer": "ipython3",
   "version": "3.7.7"
  }
 },
 "nbformat": 4,
 "nbformat_minor": 5
}
