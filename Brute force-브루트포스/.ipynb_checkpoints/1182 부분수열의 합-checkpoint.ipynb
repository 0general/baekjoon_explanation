{
 "cells": [
  {
   "cell_type": "markdown",
   "id": "4a54a87f",
   "metadata": {},
   "source": [
    "# [부분수열의 합](https://www.acmicpc.net/problem/1182)"
   ]
  },
  {
   "cell_type": "markdown",
   "id": "3216962f",
   "metadata": {},
   "source": [
    "![](image/1182.png)"
   ]
  },
  {
   "cell_type": "code",
   "execution_count": null,
   "id": "7f7f651e",
   "metadata": {},
   "outputs": [],
   "source": [
    "def BT(idx, hap, string):  # 현재 인덱스 위치, 합\n",
    "    if hap == s:  # 만족했더라도 뒤 원소에 0이 포함된 경우를 고려해야 하므로 종료해서는 안됨.\n",
    "        # 주의할 점 : 뒤까지 가봤는데 0이나 추가된 수가 없는 경우 중복해서 카운팅 된다. -> set으로 해결\n",
    "        ans.add(string)\n",
    "    if idx >= n:  # 인덱스 범위를 벗어나면 종료\n",
    "        return\n",
    "    # num은 정렬되어있으므로 idx 이후로는 모두 현재 숫자보다 큰 수가 나온다.\n",
    "    if hap >= s and num[idx] > 0: # 이미 합산 결과가 s보다 크면 양수를 더해서는 안 된다.\n",
    "        return\n",
    "    # num의 값으로 넣으면 구분이 안되므로 선택한 index를 넣는다. 숫자 겹침 구분용\n",
    "    BT(idx+1, hap+num[idx], string+\"/\"+str(idx))\n",
    "    BT(idx+1, hap, string)"
   ]
  },
  {
   "cell_type": "code",
   "execution_count": null,
   "id": "15754882",
   "metadata": {},
   "outputs": [],
   "source": [
    "n, s = map(int, input().split())\n",
    "\n",
    "num = list(map(int, input().split()))\n",
    "num.sort() # 가지치기를 쉽게 하기 위해서 sorting\n",
    "ans = set()"
   ]
  },
  {
   "cell_type": "code",
   "execution_count": null,
   "id": "0f34f25b",
   "metadata": {},
   "outputs": [],
   "source": [
    "BT(0, 0, \"\")\n",
    "ans.discard('')  # s가 0인 경우 공집합이 들어갈 수 있다.\n",
    "print(len(ans))"
   ]
  }
 ],
 "metadata": {
  "kernelspec": {
   "display_name": "Python 3",
   "language": "python",
   "name": "python3"
  },
  "language_info": {
   "codemirror_mode": {
    "name": "ipython",
    "version": 3
   },
   "file_extension": ".py",
   "mimetype": "text/x-python",
   "name": "python",
   "nbconvert_exporter": "python",
   "pygments_lexer": "ipython3",
   "version": "3.7.7"
  }
 },
 "nbformat": 4,
 "nbformat_minor": 5
}
