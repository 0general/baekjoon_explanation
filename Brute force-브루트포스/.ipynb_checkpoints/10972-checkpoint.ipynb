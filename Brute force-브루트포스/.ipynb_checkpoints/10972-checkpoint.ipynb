{
 "cells": [
  {
   "cell_type": "markdown",
   "metadata": {},
   "source": [
    "# 다음 순열"
   ]
  },
  {
   "cell_type": "markdown",
   "metadata": {},
   "source": [
    "## 규칙\n",
    "### 1. 숫자 카드의 배열은 작은 수에서 큰 수로 커진다.\n",
    "\n",
    "### 2. 수가 더 커지려면 자릿수에 해당하는 숫자의 위치에 더 큰 숫자를 넣어야 한다.\n",
    "\n",
    "### 3. 사용할 수 있는 숫자와 그 숫자의 개수가 하나씩일 때 수가 작아지려면 \n",
    "### &nbsp;&nbsp;동일 자릿수에 현재 사용 가능한 더 작은 숫자와의 교체만이 유일한 방법이다."
   ]
  },
  {
   "cell_type": "markdown",
   "metadata": {},
   "source": [
    "![](image/10972.png)"
   ]
  },
  {
   "cell_type": "code",
   "execution_count": null,
   "metadata": {},
   "outputs": [],
   "source": [
    "n = int(input())\n",
    "f = list(map(int, input().split()))\n",
    "\n",
    "idx = -1\n",
    "while idx > -n and f[idx] <= f[idx-1]:  # 뒤에서부터 내림차순을 무시하는 위치를 찾는다. \n",
    "    idx -= 1\n",
    "if idx == -n:\n",
    "    print(-1)\n",
    "else:  # 1 6 4 2 3 5\n",
    "    j = -1\n",
    "    while f[idx-1] >= f[j]:  # f[idx-1] 와 바꿀 숫자는 f[idx-1]보다 크지만 뒤에서 가장 작은 수\n",
    "        j -= 1\n",
    "    f[idx-1], f[j] = f[j], f[idx-1]\n",
    "    ans = f[:idx] + sorted(f[idx:])\n",
    "    for i in ans:\n",
    "        print(i, end=' ')"
   ]
  }
 ],
 "metadata": {
  "kernelspec": {
   "display_name": "Python 3",
   "language": "python",
   "name": "python3"
  },
  "language_info": {
   "codemirror_mode": {
    "name": "ipython",
    "version": 3
   },
   "file_extension": ".py",
   "mimetype": "text/x-python",
   "name": "python",
   "nbconvert_exporter": "python",
   "pygments_lexer": "ipython3",
   "version": "3.7.7"
  }
 },
 "nbformat": 4,
 "nbformat_minor": 2
}
