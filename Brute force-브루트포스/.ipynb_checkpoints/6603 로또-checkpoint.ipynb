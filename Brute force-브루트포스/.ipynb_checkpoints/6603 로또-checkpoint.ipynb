{
 "cells": [
  {
   "cell_type": "markdown",
   "id": "a6c4e982",
   "metadata": {},
   "source": [
    "# 로또\n",
    "[https://www.acmicpc.net/problem/6603](https://www.acmicpc.net/problem/6603)"
   ]
  },
  {
   "cell_type": "markdown",
   "id": "c77d981a",
   "metadata": {},
   "source": [
    "## 백트래킹 or itertools combination 이용 브루트포스"
   ]
  },
  {
   "cell_type": "markdown",
   "id": "c6e74f73",
   "metadata": {},
   "source": [
    "### 조합 이용"
   ]
  },
  {
   "cell_type": "code",
   "execution_count": null,
   "id": "d5f53f98",
   "metadata": {},
   "outputs": [],
   "source": [
    "import sys\n",
    "from itertools import combinations\n",
    "input = sys.stdin.readline\n",
    "\n",
    "\n",
    "while True:\n",
    "    t = list(map(int, input().split()))\n",
    "    if t[0] == 0:\n",
    "        break\n",
    "\n",
    "    k = t[0]\n",
    "    t = sorted(t[1:])\n",
    "\n",
    "    for st in combinations(t, 6):\n",
    "        for i in st:\n",
    "            print(i, end=\" \")\n",
    "        print()\n",
    "\n",
    "    print()"
   ]
  }
 ],
 "metadata": {
  "kernelspec": {
   "display_name": "Python 3",
   "language": "python",
   "name": "python3"
  },
  "language_info": {
   "codemirror_mode": {
    "name": "ipython",
    "version": 3
   },
   "file_extension": ".py",
   "mimetype": "text/x-python",
   "name": "python",
   "nbconvert_exporter": "python",
   "pygments_lexer": "ipython3",
   "version": "3.7.7"
  }
 },
 "nbformat": 4,
 "nbformat_minor": 5
}
