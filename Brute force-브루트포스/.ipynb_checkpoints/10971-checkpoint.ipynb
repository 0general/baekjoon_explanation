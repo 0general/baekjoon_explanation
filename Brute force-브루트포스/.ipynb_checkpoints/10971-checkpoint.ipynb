{
 "cells": [
  {
   "cell_type": "markdown",
   "id": "8f42bb0a",
   "metadata": {},
   "source": [
    "[외판원 순회 2](https://www.acmicpc.net/problem/10971)"
   ]
  },
  {
   "cell_type": "markdown",
   "id": "33d3793b",
   "metadata": {},
   "source": [
    "![backtracking](image/10971.png)"
   ]
  },
  {
   "cell_type": "code",
   "execution_count": null,
   "id": "70db4d8e",
   "metadata": {},
   "outputs": [],
   "source": [
    "def backtracking(a, temp, cnt):\n",
    "    global cost\n",
    "    if cnt == n-1:\n",
    "        if w[a][i] != 0:\n",
    "            cost = min(cost, temp + w[a][i])\n",
    "            return\n",
    "    for j, jcost in enumerate(w[a]):\n",
    "        if jcost != 0 and not visit[j]:\n",
    "            visit[j] = True\n",
    "            backtracking(j, temp+jcost, cnt+1)\n",
    "            visit[j] = False\n",
    "\n",
    "\n",
    "# 도시 수 n은 1보다 크고 10보다 작거나 같은 수\n",
    "n = int(input())\n",
    "w = []\n",
    "\n",
    "for _ in range(n):\n",
    "    w.append(list(map(int, input().split())))\n",
    "\n",
    "cost = int(1e9)\n",
    "\n",
    "for i in range(n):  # 시작 노드\n",
    "    visit = [False] * n\n",
    "    temp = 0  # 가격 표시\n",
    "    cnt = 0\n",
    "    visit[i] = True\n",
    "    backtracking(i, temp, cnt)\n",
    "\n",
    "print(cost)"
   ]
  }
 ],
 "metadata": {
  "kernelspec": {
   "display_name": "Python 3",
   "language": "python",
   "name": "python3"
  },
  "language_info": {
   "codemirror_mode": {
    "name": "ipython",
    "version": 3
   },
   "file_extension": ".py",
   "mimetype": "text/x-python",
   "name": "python",
   "nbconvert_exporter": "python",
   "pygments_lexer": "ipython3",
   "version": "3.7.7"
  }
 },
 "nbformat": 4,
 "nbformat_minor": 5
}
