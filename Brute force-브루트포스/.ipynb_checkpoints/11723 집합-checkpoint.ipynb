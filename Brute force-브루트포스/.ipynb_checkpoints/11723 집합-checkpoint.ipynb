{
 "cells": [
  {
   "cell_type": "markdown",
   "id": "6ea6d62d",
   "metadata": {},
   "source": [
    "# [집합](https://www.acmicpc.net/problem/11723)"
   ]
  },
  {
   "cell_type": "markdown",
   "id": "78b61498",
   "metadata": {},
   "source": [
    "### pypy3 채점시 메모리 초과"
   ]
  },
  {
   "cell_type": "code",
   "execution_count": null,
   "id": "815ab93e",
   "metadata": {},
   "outputs": [],
   "source": [
    "import sys"
   ]
  },
  {
   "cell_type": "code",
   "execution_count": null,
   "id": "367bbaf1",
   "metadata": {},
   "outputs": [],
   "source": [
    "input = sys.stdin.readline"
   ]
  },
  {
   "cell_type": "code",
   "execution_count": null,
   "id": "5c7d3cba",
   "metadata": {},
   "outputs": [],
   "source": [
    "def add_x(x):\n",
    "    s.add(x)\n",
    "    return s\n",
    "\n",
    "def remove_x(x):\n",
    "    s.discard(x) #있으면 삭제, 없으면 무시 <- discard\n",
    "    return s\n",
    "\n",
    "def check(x):\n",
    "    if x in s:\n",
    "        print(1)\n",
    "    else:\n",
    "        print(0)\n",
    "    return s\n",
    "\n",
    "def toggle(x):\n",
    "    if x in s:\n",
    "        s.remove(x)\n",
    "    else:\n",
    "        s.add(x)\n",
    "    return s\n",
    "\n",
    "def all_s():\n",
    "    return {\"1\", \"2\", \"3\", \"4\", \"5\", \"6\", \"7\", \"8\", \"9\", \"10\",\n",
    "            \"11\", \"12\", \"13\", \"14\", \"15\", \"16\", \"17\", \"18\", \"19\", \"20\"} #set(list(map(str,range(1, 21)))) -> 시간 초과\n",
    "\n",
    "def empty_s():\n",
    "    #s.clear()\n",
    "    return set() # s.clear()를 하고 s를 반환하면 불필요한 시간 추가? -> 해도 통과됨."
   ]
  },
  {
   "cell_type": "code",
   "execution_count": null,
   "id": "080c2a1f",
   "metadata": {},
   "outputs": [],
   "source": [
    "dic = {\"add\":add_x, \"remove\":remove_x, \"check\":check, \"toggle\":toggle, \"all\":all_s, \"empty\":empty_s}"
   ]
  },
  {
   "cell_type": "code",
   "execution_count": null,
   "id": "7228806c",
   "metadata": {},
   "outputs": [],
   "source": [
    "s = set()\n",
    "m = int(input())"
   ]
  },
  {
   "cell_type": "code",
   "execution_count": null,
   "id": "897dcc9e",
   "metadata": {},
   "outputs": [],
   "source": [
    "for _ in range(m):\n",
    "    query = list(input().split())\n",
    "    if len(query) == 1: #all or empty <- x가 없음\n",
    "        s = dic[query[0]]()\n",
    "    else:\n",
    "        s = dic[query[0]](query[1])"
   ]
  }
 ],
 "metadata": {
  "kernelspec": {
   "display_name": "Python 3",
   "language": "python",
   "name": "python3"
  },
  "language_info": {
   "codemirror_mode": {
    "name": "ipython",
    "version": 3
   },
   "file_extension": ".py",
   "mimetype": "text/x-python",
   "name": "python",
   "nbconvert_exporter": "python",
   "pygments_lexer": "ipython3",
   "version": "3.7.7"
  }
 },
 "nbformat": 4,
 "nbformat_minor": 5
}
