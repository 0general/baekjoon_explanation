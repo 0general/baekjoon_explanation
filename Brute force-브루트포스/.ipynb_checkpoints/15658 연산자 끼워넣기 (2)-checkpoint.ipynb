{
 "cells": [
  {
   "cell_type": "markdown",
   "id": "b6a6bd73",
   "metadata": {},
   "source": [
    "# [연산자 끼워넣기 (2)](https://www.acmicpc.net/problem/15658)"
   ]
  },
  {
   "cell_type": "markdown",
   "id": "303fed9e",
   "metadata": {},
   "source": [
    "![](image/15658.png)"
   ]
  },
  {
   "cell_type": "markdown",
   "id": "f55a390e",
   "metadata": {},
   "source": [
    "### 순열 사용시 시간 초과 → BT로 가지치기 해야"
   ]
  },
  {
   "cell_type": "code",
   "execution_count": null,
   "id": "a3682d14",
   "metadata": {},
   "outputs": [],
   "source": [
    "import sys"
   ]
  },
  {
   "cell_type": "code",
   "execution_count": null,
   "id": "c7517a3b",
   "metadata": {},
   "outputs": [],
   "source": [
    "def plus(temp, i):\n",
    "    return temp + number[i]\n",
    "\n",
    "def minus(temp, i):\n",
    "    return temp - number[i]\n",
    "\n",
    "def multiple(temp, i):\n",
    "    return temp * number[i]\n",
    "\n",
    "def divide(temp, i):\n",
    "    if temp < 0:\n",
    "        return -(-temp // number[i])\n",
    "    return temp // number[i]"
   ]
  },
  {
   "cell_type": "code",
   "execution_count": null,
   "id": "05e3cac1",
   "metadata": {},
   "outputs": [],
   "source": [
    "def BT(idx, ans):  # 숫자 index, 현재까지 계산 결과\n",
    "    global max, min\n",
    "    if idx == n:\n",
    "        if ans < min:\n",
    "            min = ans\n",
    "        if ans > max:\n",
    "            max = ans\n",
    "        return\n",
    "    if idx > n:\n",
    "        return\n",
    "    for i in range(4): # 그림 참조\n",
    "        if opn[i] > 0: # 이 opn[i] 연산자의 남은 사용개수가 있다면\n",
    "            opn[i] -= 1\n",
    "            BT(idx + 1, func[i](ans, idx))\n",
    "            opn[i] += 1\n",
    "\n",
    "func = {0: plus, 1: minus, 2: multiple, 3: divide}\n",
    "\n",
    "input = sys.stdin.readline\n",
    "\n",
    "n = int(input())  # 숫자 개수\n",
    "number = list(map(int, input().split()))  # 피연산자\n",
    "opn = list(map(int, input().split()))  # 연산자 개수 + - * / 순\n",
    "\n",
    "max = -10**9\n",
    "min = 10**9\n",
    "\n",
    "BT(1, number[0])\n",
    "\n",
    "print(max)\n",
    "print(min)"
   ]
  }
 ],
 "metadata": {
  "kernelspec": {
   "display_name": "Python 3",
   "language": "python",
   "name": "python3"
  },
  "language_info": {
   "codemirror_mode": {
    "name": "ipython",
    "version": 3
   },
   "file_extension": ".py",
   "mimetype": "text/x-python",
   "name": "python",
   "nbconvert_exporter": "python",
   "pygments_lexer": "ipython3",
   "version": "3.7.7"
  }
 },
 "nbformat": 4,
 "nbformat_minor": 5
}
