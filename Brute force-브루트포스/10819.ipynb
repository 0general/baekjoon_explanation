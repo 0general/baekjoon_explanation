{
 "cells": [
  {
   "cell_type": "markdown",
   "id": "6334cec9",
   "metadata": {},
   "source": [
    "[차이를 최대로](https://www.acmicpc.net/problem/10819)"
   ]
  },
  {
   "cell_type": "code",
   "execution_count": null,
   "id": "cf61beb5",
   "metadata": {},
   "outputs": [],
   "source": [
    "from itertools import permutations\n",
    "import sys\n",
    "input = sys.stdin.readline\n",
    "\n",
    "n = int(input())\n",
    "\n",
    "num = list(map(int, input().split()))\n",
    "\n",
    "ans = 0\n",
    "for com in list(permutations(num, n)):\n",
    "    temp = 0\n",
    "    for j in range(1, n):\n",
    "        temp += abs(com[j]-com[j-1])\n",
    "    ans = max(ans, temp)\n",
    "\n",
    "print(ans)"
   ]
  },
  {
   "cell_type": "markdown",
   "id": "9dac993d",
   "metadata": {},
   "source": [
    "그냥 모든 순열 구해서 브루트 포스"
   ]
  },
  {
   "cell_type": "markdown",
   "id": "5fefe9cf",
   "metadata": {},
   "source": [
    "### 틀린 코드 ↓"
   ]
  },
  {
   "cell_type": "code",
   "execution_count": 6,
   "id": "93ac4925",
   "metadata": {},
   "outputs": [
    {
     "name": "stdout",
     "output_type": "stream",
     "text": [
      "373\n"
     ]
    }
   ],
   "source": [
    "import sys\n",
    "input = sys.stdin.readline\n",
    "\n",
    "#n = int(input())\n",
    "n = 5\n",
    "#num = list(map(int, input().split()))\n",
    "num = [-66, -86, 51, -87, -27]\n",
    "num.sort()\n",
    "\n",
    "i, j = 0, n-1\n",
    "ans = []\n",
    "temp = []\n",
    "j_first = True\n",
    "while i < j:\n",
    "    if i == 0 and j == n-1:\n",
    "        if abs(num[i]) > abs(num[j]):\n",
    "            j_first = False\n",
    "    if j_first:\n",
    "        temp.append(num[j])\n",
    "        temp.append(num[i])\n",
    "    else:\n",
    "        temp.append(num[i])\n",
    "        temp.append(num[j])\n",
    "    i += 1\n",
    "    j -= 1\n",
    "    if i == j :\n",
    "        if abs(num[i]-temp[0]) > abs(temp[-1]-num[i]):\n",
    "            ans.append(num[i])\n",
    "            break\n",
    "        else:\n",
    "            temp.append(num[i])\n",
    "if ans:\n",
    "    ans += temp\n",
    "else:\n",
    "    ans = temp\n",
    "\n",
    "cnt = 0\n",
    "for u in range(1, n):\n",
    "    cnt += abs(ans[u]-ans[u-1])\n",
    "\n",
    "print(cnt)"
   ]
  },
  {
   "cell_type": "code",
   "execution_count": null,
   "id": "c8f57939",
   "metadata": {},
   "outputs": [],
   "source": [
    "# 5\n",
    "# -66 -86 51 -87 -27\n",
    "# 정답은 374\n",
    "# 반례 \n",
    "# 5\n",
    "# -1 -1 0 -3 -4 \n",
    "# 정답은 12 내 코드는 11"
   ]
  }
 ],
 "metadata": {
  "kernelspec": {
   "display_name": "Python 3",
   "language": "python",
   "name": "python3"
  },
  "language_info": {
   "codemirror_mode": {
    "name": "ipython",
    "version": 3
   },
   "file_extension": ".py",
   "mimetype": "text/x-python",
   "name": "python",
   "nbconvert_exporter": "python",
   "pygments_lexer": "ipython3",
   "version": "3.7.7"
  }
 },
 "nbformat": 4,
 "nbformat_minor": 5
}
